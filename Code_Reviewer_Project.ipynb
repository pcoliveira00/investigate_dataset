{
 "cells": [
  {
   "cell_type": "code",
   "execution_count": null,
   "metadata": {
    "collapsed": true
   },
   "outputs": [],
   "source": [
    "Peterson C. de Oliveira\n",
    "\n",
    "Investigate a dataset."
   ]
  },
  {
   "cell_type": "markdown",
   "metadata": {},
   "source": [
    "The Titanic was choosen as the dataset to investigate."
   ]
  },
  {
   "cell_type": "markdown",
   "metadata": {},
   "source": [
    "As suggested the most interesting questing to pose should be something related to what factors made people more likely to survive and this will be the question to answer.\n"
   ]
  },
  {
   "cell_type": "code",
   "execution_count": 112,
   "metadata": {
    "collapsed": false
   },
   "outputs": [
    {
     "name": "stdout",
     "output_type": "stream",
     "text": [
      "Summary of the dataset:        Survived      Pclass         Age       SibSp       Parch        Fare\n",
      "count       342  342.000000  290.000000  342.000000  342.000000  342.000000\n",
      "mean          1    1.950292   28.343690    0.473684    0.464912   48.395408\n",
      "std           0    0.863321   14.950952    0.708688    0.771712   66.596998\n",
      "min           1    1.000000    0.420000    0.000000    0.000000    0.000000\n",
      "25%           1    1.000000   19.000000    0.000000    0.000000   12.475000\n",
      "50%           1    2.000000   28.000000    0.000000    0.000000   26.000000\n",
      "75%           1    3.000000   36.000000    1.000000    1.000000   57.000000\n",
      "max           1    3.000000   80.000000    4.000000    5.000000  512.329200\n",
      "Number of survived passengers: 342\n",
      "Number of survived females: 233\n",
      "Number of survived females: 109\n"
     ]
    }
   ],
   "source": [
    "from pandas import *\n",
    "from ggplot import *\n",
    "import matplotlib.pyplot as plt\n",
    "\n",
    "%matplotlib inline\n",
    "\n",
    "titanic = pandas.read_csv('/home/peterson/Udacity/Data_Science/Investigate_a_dataset/titanic_data.csv')\n",
    "\n",
    "peopleThatSurvived = titanic[titanic.Survived == 1]\n",
    "\n",
    "\n",
    "#As we do not need the Passenger Id information I decided to remove it from the dataframe.\n",
    "peopleThatSurvived = peopleThatSurvived.drop('PassengerId', 1)\n",
    "\n",
    "print 'Summary of the dataset: %s' %peopleThatSurvived.describe()\n",
    "\n",
    "#The information above shows a problem that will be solved later, a problem with the age of some passengers.\n",
    "\n",
    "\n",
    "\n",
    "female = titanic[titanic.Sex == 'female']\n",
    "\n",
    "male = titanic[titanic.Sex == 'male']\n",
    "\n",
    "print 'Number of survived passengers: %d' % len(peopleThatSurvived)\n",
    "\n",
    "print 'Number of survived females: %d' % len(female[female.Survived == 1])\n",
    "\n",
    "print 'Number of survived females: %d' % len(male[male.Survived == 1])"
   ]
  },
  {
   "cell_type": "code",
   "execution_count": 107,
   "metadata": {
    "collapsed": false
   },
   "outputs": [
    {
     "name": "stdout",
     "output_type": "stream",
     "text": [
      "Mean age of the survivors: 28\n",
      "Max age of the survivors: 80\n",
      "Min age of the survivors: 0\n",
      "Standard Deviation of the survivors age: 13\n",
      "People that survived with NaN age value 0\n",
      "People that survived with NaN age value after cleaning 0\n",
      "        Sex\n",
      "      count\n",
      "Age        \n",
      "0.42      1\n",
      "0.67      1\n",
      "0.75      2\n",
      "0.83      2\n",
      "0.92      1\n",
      "1.00      5\n",
      "2.00      3\n",
      "3.00      5\n",
      "4.00      7\n",
      "5.00      4\n",
      "6.00      2\n",
      "7.00      1\n",
      "8.00      2\n",
      "9.00      2\n",
      "11.00     1\n",
      "12.00     1\n",
      "13.00     2\n",
      "14.00     3\n",
      "15.00     4\n",
      "16.00     6\n",
      "17.00     6\n",
      "18.00     9\n",
      "19.00     9\n",
      "20.00     3\n",
      "21.00     5\n",
      "22.00    11\n",
      "23.00     5\n",
      "24.00    15\n",
      "25.00     6\n",
      "26.00     6\n",
      "...     ...\n",
      "32.00     9\n",
      "32.50     1\n",
      "33.00     6\n",
      "34.00     6\n",
      "35.00    11\n",
      "36.00    11\n",
      "37.00     1\n",
      "38.00     5\n",
      "39.00     5\n",
      "40.00     6\n",
      "41.00     2\n",
      "42.00     6\n",
      "43.00     1\n",
      "44.00     3\n",
      "45.00     5\n",
      "47.00     1\n",
      "48.00     6\n",
      "49.00     4\n",
      "50.00     5\n",
      "51.00     2\n",
      "52.00     3\n",
      "53.00     1\n",
      "54.00     3\n",
      "55.00     1\n",
      "56.00     2\n",
      "58.00     3\n",
      "60.00     2\n",
      "62.00     2\n",
      "63.00     2\n",
      "80.00     1\n",
      "\n",
      "[66 rows x 1 columns]\n"
     ]
    },
    {
     "data": {
      "text/plain": [
       "(0.41999999999999998, 80.0)"
      ]
     },
     "execution_count": 107,
     "metadata": {},
     "output_type": "execute_result"
    },
    {
     "data": {
      "image/png": "[encoded data removed]",
      "text/plain": [
       "<matplotlib.figure.Figure at 0xac77eeec>"
      ]
     },
     "metadata": {},
     "output_type": "display_data"
    }
   ],
   "source": [
    "print 'Mean age of the survivors: %d' %peopleThatSurvived.Age.mean()\n",
    "\n",
    "print 'Max age of the survivors: %d' %peopleThatSurvived.Age.max()\n",
    "\n",
    "print 'Min age of the survivors: %d' % peopleThatSurvived.Age.min()\n",
    "\n",
    "print 'Standard Deviation of the survivors age: %d' % peopleThatSurvived.Age.std()\n",
    "\n",
    "print 'People that survived with NaN age value %d' %len(peopleThatSurvived[peopleThatSurvived.Age.isnull()])\n",
    "\n",
    "#We have some problem with NaN values for age and to deal with it i set the NaN values to the mean age of the survivors.\n",
    "peopleThatSurvived = peopleThatSurvived.fillna(peopleThatSurvived.Age.mean());\n",
    "\n",
    "print 'People that survived with NaN age value after cleaning %d' %len(peopleThatSurvived[peopleThatSurvived.Age.isnull()])\n",
    "\n",
    "print peopleThatSurvived[['Sex', 'Age']].groupby(['Age']).agg(['count'])\n",
    "\n",
    "# A histogram of the data of the survivors by age\n",
    "survived_age_plot = peopleThatSurvived['Age'].plot(kind='hist', stacked=True, bins=50, color='red')\n",
    "survived_age_plot.set_title(\"Survivors by Age\")\n",
    "survived_age_plot.set_xlabel(\"Age\")\n",
    "survived_age_plot.set_ylabel(\"Number of Survivors\")\n",
    "survived_age_plot.set_xlim([peopleThatSurvived.Age.min(),peopleThatSurvived.Age.max()])\n",
    "\n"
   ]
  },
  {
   "cell_type": "code",
   "execution_count": 87,
   "metadata": {
    "collapsed": false
   },
   "outputs": [
    {
     "data": {
      "text/plain": [
       "(0.41999999999999998, 80.0)"
      ]
     },
     "execution_count": 87,
     "metadata": {},
     "output_type": "execute_result"
    },
    {
     "data": {
      "image/png": "[encoded data removed]",
      "text/plain": [
       "<matplotlib.figure.Figure at 0xac4bc3ac>"
      ]
     },
     "metadata": {},
     "output_type": "display_data"
    }
   ],
   "source": [
    "# A histogram of the data of the passengers by age\n",
    "everybody_age_plot = titanic['Age'].plot(kind='hist', stacked=True, bins=50, color='blue')\n",
    "everybody_age_plot.set_title(\"Everybody by Age\")\n",
    "everybody_age_plot.set_xlabel(\"Age\")\n",
    "everybody_age_plot.set_ylabel(\"Number of People\")\n",
    "everybody_age_plot.set_xlim([titanic.Age.min(),titanic.Age.max()])"
   ]
  },
  {
   "cell_type": "code",
   "execution_count": 104,
   "metadata": {
    "collapsed": false
   },
   "outputs": [
    {
     "name": "stdout",
     "output_type": "stream",
     "text": [
      "        Name\n",
      "       count\n",
      "Pclass      \n",
      "1        216\n",
      "2        184\n",
      "3        491\n"
     ]
    },
    {
     "data": {
      "text/plain": [
       "(1, 3)"
      ]
     },
     "execution_count": 104,
     "metadata": {},
     "output_type": "execute_result"
    },
    {
     "data": {
      "image/png": "[encoded data removed]",
      "text/plain": [
       "<matplotlib.figure.Figure at 0xabc7892c>"
      ]
     },
     "metadata": {},
     "output_type": "display_data"
    }
   ],
   "source": [
    "print titanic[['Name', 'Pclass']].groupby(['Pclass']).agg(['count'])\n",
    "\n",
    "\n",
    "# A histogram of the data of the passengers by class\n",
    "everybody_class_plot = titanic['Pclass'].plot(kind='hist', stacked=True, bins=10, color='blue')\n",
    "everybody_class_plot.set_title(\"Everybody by Class\")\n",
    "everybody_class_plot.set_xlabel(\"Class\")\n",
    "everybody_class_plot.set_ylabel(\"Number of People\")\n",
    "everybody_class_plot.set_xlim([titanic.Pclass.min(),titanic.Pclass.max()])\n"
   ]
  },
  {
   "cell_type": "code",
   "execution_count": 88,
   "metadata": {
    "collapsed": false
   },
   "outputs": [
    {
     "name": "stdout",
     "output_type": "stream",
     "text": [
      "       Survived\n",
      "          count\n",
      "Pclass         \n",
      "1           136\n",
      "2            87\n",
      "3           119\n"
     ]
    },
    {
     "data": {
      "text/plain": [
       "(1, 3)"
      ]
     },
     "execution_count": 88,
     "metadata": {},
     "output_type": "execute_result"
    },
    {
     "data": {
      "image/png": "[encoded data removed]",
      "text/plain": [
       "<matplotlib.figure.Figure at 0xabc0e1ac>"
      ]
     },
     "metadata": {},
     "output_type": "display_data"
    }
   ],
   "source": [
    "print peopleThatSurvived[['Survived', 'Pclass']].groupby(['Pclass']).agg(['count'])\n",
    "\n",
    "\n",
    "# A histogram of the data of the survivors by class\n",
    "\n",
    "survived_class_plot = peopleThatSurvived['Pclass'].plot(kind='hist', stacked=True, bins=10, color='red')\n",
    "survived_class_plot.set_title(\"Survived by Class\")\n",
    "survived_class_plot.set_xlabel(\"Class\")\n",
    "survived_class_plot.set_ylabel(\"Number of People\")\n",
    "survived_class_plot.set_xlim([peopleThatSurvived.Pclass.min(),peopleThatSurvived.Pclass.max()])\n",
    "\n"
   ]
  },
  {
   "cell_type": "code",
   "execution_count": 99,
   "metadata": {
    "collapsed": false
   },
   "outputs": [
    {
     "name": "stdout",
     "output_type": "stream",
     "text": [
      "              Survived\n",
      "                 count\n",
      "Pclass Sex            \n",
      "1      female       91\n",
      "       male         45\n",
      "2      female       70\n",
      "       male         17\n",
      "3      female       72\n",
      "       male         47\n"
     ]
    }
   ],
   "source": [
    "print peopleThatSurvived[['Survived', 'Pclass','Sex']].groupby(['Pclass', 'Sex']).agg(['count'])"
   ]
  },
  {
   "cell_type": "markdown",
   "metadata": {},
   "source": [
    "From the analysis above it seems that we have a trend in the factors that made people more likely to survive. It seems that females had priority on the lifeboats, as seen on the movies. \n",
    "\n",
    "From the dataset we have 891 passengers, which 314 are women and 577 are men. Considering those numbers only 233 women were saved against 109 men, that represents almost 74% of women saved and 18,8% of men. So beeing a woman is a great factor for survive.\n",
    "\n",
    "Another variable that counts is wealth and from the dataset we have 3 classes - 1st, 2nd and 3rd - that represents Upper, Middle and Lower classes. As we can see from the data below we had more passengers survided from the Upper class. \n",
    "\n",
    "Class   #Passenger        \n",
    "1st         136 - 63%\n",
    "2nd          87 - 47%\n",
    "3rd         119 - 24%\n",
    "\n",
    "      \n",
    "Class   #Passenger      \n",
    "1st      216\n",
    "2nd      184\n",
    "3rd      491\n",
    "\n",
    "Our last important factor seems to be age:\n",
    "\n",
    "And we arrived with the following numbers:\n",
    "\n",
    "Mean age of the survivors: 28\n",
    "Max age of the survivors: 80\n",
    "Min age of the survivors: 0\n",
    "Standard Deviation of the survivors age: 14\n",
    "\n",
    "So it seems that women, of an upper class and around 21.00 and 36.00 years old had a better chance to survive.\n"
   ]
  },
  {
   "cell_type": "markdown",
   "metadata": {},
   "source": [
    "[1] Kaggle\n",
    "[2] Udacity"
   ]
  },
  {
   "cell_type": "markdown",
   "metadata": {
    "collapsed": true
   },
   "source": [
    " "
   ]
  }
 ],
 "metadata": {
  "kernelspec": {
   "display_name": "Python 2",
   "language": "python",
   "name": "python2"
  },
  "language_info": {
   "codemirror_mode": {
    "name": "ipython",
    "version": 2
   },
   "file_extension": ".py",
   "mimetype": "text/x-python",
   "name": "python",
   "nbconvert_exporter": "python",
   "pygments_lexer": "ipython2",
   "version": "2.7.9"
  }
 },
 "nbformat": 4,
 "nbformat_minor": 0
}
